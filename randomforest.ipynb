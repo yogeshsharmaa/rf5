{
 "cells": [
  {
   "cell_type": "code",
   "execution_count": 1,
   "id": "e8b21704",
   "metadata": {},
   "outputs": [],
   "source": [
    "import os\n",
    "import pathlib\n",
    "import numpy as np\n",
    "import pandas as pd\n",
    "import seaborn as sns\n",
    "import matplotlib.pyplot as plt\n",
    "%matplotlib inline"
   ]
  },
  {
   "cell_type": "code",
   "execution_count": 2,
   "id": "0cef039c",
   "metadata": {},
   "outputs": [],
   "source": [
    "from sklearn.model_selection import train_test_split,GridSearchCV\n",
    "from sklearn.ensemble import RandomForestClassifier\n",
    "from sklearn.metrics import accuracy_score,confusion_matrix"
   ]
  },
  {
   "cell_type": "code",
   "execution_count": 3,
   "id": "3ab64509",
   "metadata": {},
   "outputs": [],
   "source": [
    "df=pd.read_excel('C:/Users/DS3/Downloads/random_forest_dataset.xlsx')"
   ]
  },
  {
   "cell_type": "code",
   "execution_count": 4,
   "id": "e84183d1",
   "metadata": {},
   "outputs": [
    {
     "data": {
      "text/plain": [
       "(106, 15)"
      ]
     },
     "execution_count": 4,
     "metadata": {},
     "output_type": "execute_result"
    }
   ],
   "source": [
    "df.shape"
   ]
  },
  {
   "cell_type": "code",
   "execution_count": 5,
   "id": "8e33d025",
   "metadata": {},
   "outputs": [
    {
     "name": "stdout",
     "output_type": "stream",
     "text": [
      "<class 'pandas.core.frame.DataFrame'>\n",
      "RangeIndex: 106 entries, 0 to 105\n",
      "Data columns (total 15 columns):\n",
      " #   Column       Non-Null Count  Dtype  \n",
      "---  ------       --------------  -----  \n",
      " 0   Unnamed: 0   106 non-null    int64  \n",
      " 1   Unnamed: 1   106 non-null    object \n",
      " 2   Unnamed: 2   106 non-null    object \n",
      " 3   Unnamed: 3   106 non-null    object \n",
      " 4   Unnamed: 4   106 non-null    int64  \n",
      " 5   Unnamed: 5   106 non-null    float64\n",
      " 6   Unnamed: 6   106 non-null    float64\n",
      " 7   Unnamed: 7   106 non-null    float64\n",
      " 8   Unnamed: 8   106 non-null    int64  \n",
      " 9   Unnamed: 9   106 non-null    float64\n",
      " 10  Unnamed: 10  106 non-null    int64  \n",
      " 11  Unnamed: 11  106 non-null    int64  \n",
      " 12  Unnamed: 12  106 non-null    float64\n",
      " 13  Unnamed: 13  106 non-null    float64\n",
      " 14  Unnamed: 14  106 non-null    object \n",
      "dtypes: float64(6), int64(5), object(4)\n",
      "memory usage: 12.5+ KB\n"
     ]
    }
   ],
   "source": [
    "df.info()"
   ]
  },
  {
   "cell_type": "code",
   "execution_count": 6,
   "id": "cd5de574",
   "metadata": {},
   "outputs": [],
   "source": [
    "df = df.dropna(how='any', subset=df.columns)"
   ]
  },
  {
   "cell_type": "code",
   "execution_count": 10,
   "id": "21a74f14",
   "metadata": {},
   "outputs": [
    {
     "name": "stdout",
     "output_type": "stream",
     "text": [
      "<class 'pandas.core.frame.DataFrame'>\n",
      "RangeIndex: 106 entries, 0 to 105\n",
      "Data columns (total 15 columns):\n",
      " #   Column       Non-Null Count  Dtype  \n",
      "---  ------       --------------  -----  \n",
      " 0   Unnamed: 0   106 non-null    int64  \n",
      " 1   Unnamed: 1   106 non-null    object \n",
      " 2   Unnamed: 2   106 non-null    object \n",
      " 3   Unnamed: 3   106 non-null    object \n",
      " 4   Unnamed: 4   106 non-null    int64  \n",
      " 5   Unnamed: 5   106 non-null    float64\n",
      " 6   Unnamed: 6   106 non-null    float64\n",
      " 7   Unnamed: 7   106 non-null    float64\n",
      " 8   Unnamed: 8   106 non-null    int64  \n",
      " 9   Unnamed: 9   106 non-null    float64\n",
      " 10  Unnamed: 10  106 non-null    int64  \n",
      " 11  Unnamed: 11  106 non-null    int64  \n",
      " 12  Unnamed: 12  106 non-null    float64\n",
      " 13  Unnamed: 13  106 non-null    float64\n",
      " 14  Unnamed: 14  106 non-null    object \n",
      "dtypes: float64(6), int64(5), object(4)\n",
      "memory usage: 12.5+ KB\n"
     ]
    },
    {
     "data": {
      "text/html": [
       "<div>\n",
       "<style scoped>\n",
       "    .dataframe tbody tr th:only-of-type {\n",
       "        vertical-align: middle;\n",
       "    }\n",
       "\n",
       "    .dataframe tbody tr th {\n",
       "        vertical-align: top;\n",
       "    }\n",
       "\n",
       "    .dataframe thead th {\n",
       "        text-align: right;\n",
       "    }\n",
       "</style>\n",
       "<table border=\"1\" class=\"dataframe\">\n",
       "  <thead>\n",
       "    <tr style=\"text-align: right;\">\n",
       "      <th></th>\n",
       "      <th>Unnamed: 0</th>\n",
       "      <th>Unnamed: 1</th>\n",
       "      <th>Unnamed: 2</th>\n",
       "      <th>Unnamed: 3</th>\n",
       "      <th>Unnamed: 4</th>\n",
       "      <th>Unnamed: 5</th>\n",
       "      <th>Unnamed: 6</th>\n",
       "      <th>Unnamed: 7</th>\n",
       "      <th>Unnamed: 8</th>\n",
       "      <th>Unnamed: 9</th>\n",
       "      <th>Unnamed: 10</th>\n",
       "      <th>Unnamed: 11</th>\n",
       "      <th>Unnamed: 12</th>\n",
       "      <th>Unnamed: 13</th>\n",
       "      <th>Unnamed: 14</th>\n",
       "    </tr>\n",
       "  </thead>\n",
       "  <tbody>\n",
       "    <tr>\n",
       "      <th>0</th>\n",
       "      <td>4</td>\n",
       "      <td>1RV21MC004</td>\n",
       "      <td>AISHWARYA K KAMBLE</td>\n",
       "      <td>Analysis and Deployment of an efficient Deep L...</td>\n",
       "      <td>88</td>\n",
       "      <td>17.6</td>\n",
       "      <td>85.0</td>\n",
       "      <td>34.0</td>\n",
       "      <td>96</td>\n",
       "      <td>19.2</td>\n",
       "      <td>13</td>\n",
       "      <td>4</td>\n",
       "      <td>36.2</td>\n",
       "      <td>87.8</td>\n",
       "      <td>A</td>\n",
       "    </tr>\n",
       "    <tr>\n",
       "      <th>1</th>\n",
       "      <td>5</td>\n",
       "      <td>1RV21MC005</td>\n",
       "      <td>AISHWARYA NAGARAJ BABALESHWAR</td>\n",
       "      <td>Development of Deep Learning Model for Varied ...</td>\n",
       "      <td>84</td>\n",
       "      <td>16.8</td>\n",
       "      <td>82.0</td>\n",
       "      <td>32.8</td>\n",
       "      <td>77</td>\n",
       "      <td>15.4</td>\n",
       "      <td>15</td>\n",
       "      <td>5</td>\n",
       "      <td>35.4</td>\n",
       "      <td>85.0</td>\n",
       "      <td>A</td>\n",
       "    </tr>\n",
       "    <tr>\n",
       "      <th>2</th>\n",
       "      <td>6</td>\n",
       "      <td>1RV21MC006</td>\n",
       "      <td>AJITH KUMAR K</td>\n",
       "      <td>Creating Email Campaign Templates using Visual...</td>\n",
       "      <td>89</td>\n",
       "      <td>17.8</td>\n",
       "      <td>87.0</td>\n",
       "      <td>34.8</td>\n",
       "      <td>92</td>\n",
       "      <td>18.4</td>\n",
       "      <td>15</td>\n",
       "      <td>4</td>\n",
       "      <td>37.4</td>\n",
       "      <td>90.0</td>\n",
       "      <td>S</td>\n",
       "    </tr>\n",
       "    <tr>\n",
       "      <th>3</th>\n",
       "      <td>7</td>\n",
       "      <td>1RV21MC007</td>\n",
       "      <td>AKASH</td>\n",
       "      <td>AR Application To Visualize Biogas Plant</td>\n",
       "      <td>94</td>\n",
       "      <td>18.8</td>\n",
       "      <td>92.0</td>\n",
       "      <td>36.8</td>\n",
       "      <td>95</td>\n",
       "      <td>19.0</td>\n",
       "      <td>14</td>\n",
       "      <td>5</td>\n",
       "      <td>38.0</td>\n",
       "      <td>93.6</td>\n",
       "      <td>S</td>\n",
       "    </tr>\n",
       "    <tr>\n",
       "      <th>4</th>\n",
       "      <td>8</td>\n",
       "      <td>1RV21MC008</td>\n",
       "      <td>AKASH BHARDWAJ</td>\n",
       "      <td>Intrusion Detection System Using Machine Learn...</td>\n",
       "      <td>82</td>\n",
       "      <td>16.4</td>\n",
       "      <td>75.0</td>\n",
       "      <td>30.0</td>\n",
       "      <td>77</td>\n",
       "      <td>15.4</td>\n",
       "      <td>13</td>\n",
       "      <td>5</td>\n",
       "      <td>33.4</td>\n",
       "      <td>79.8</td>\n",
       "      <td>B</td>\n",
       "    </tr>\n",
       "  </tbody>\n",
       "</table>\n",
       "</div>"
      ],
      "text/plain": [
       "   Unnamed: 0  Unnamed: 1                     Unnamed: 2  \\\n",
       "0           4  1RV21MC004             AISHWARYA K KAMBLE   \n",
       "1           5  1RV21MC005  AISHWARYA NAGARAJ BABALESHWAR   \n",
       "2           6  1RV21MC006                  AJITH KUMAR K   \n",
       "3           7  1RV21MC007                          AKASH   \n",
       "4           8  1RV21MC008                 AKASH BHARDWAJ   \n",
       "\n",
       "                                          Unnamed: 3  Unnamed: 4  Unnamed: 5  \\\n",
       "0  Analysis and Deployment of an efficient Deep L...          88        17.6   \n",
       "1  Development of Deep Learning Model for Varied ...          84        16.8   \n",
       "2  Creating Email Campaign Templates using Visual...          89        17.8   \n",
       "3           AR Application To Visualize Biogas Plant          94        18.8   \n",
       "4  Intrusion Detection System Using Machine Learn...          82        16.4   \n",
       "\n",
       "   Unnamed: 6  Unnamed: 7  Unnamed: 8  Unnamed: 9  Unnamed: 10  Unnamed: 11  \\\n",
       "0        85.0        34.0          96        19.2           13            4   \n",
       "1        82.0        32.8          77        15.4           15            5   \n",
       "2        87.0        34.8          92        18.4           15            4   \n",
       "3        92.0        36.8          95        19.0           14            5   \n",
       "4        75.0        30.0          77        15.4           13            5   \n",
       "\n",
       "   Unnamed: 12  Unnamed: 13 Unnamed: 14  \n",
       "0         36.2         87.8           A  \n",
       "1         35.4         85.0           A  \n",
       "2         37.4         90.0           S  \n",
       "3         38.0         93.6           S  \n",
       "4         33.4         79.8           B  "
      ]
     },
     "execution_count": 10,
     "metadata": {},
     "output_type": "execute_result"
    }
   ],
   "source": [
    "df.to_excel('C:/Users/DS3/Downloads/random_forest_dataset.xlsx', index=False)\n",
    "df.info()\n",
    "df.head()"
   ]
  },
  {
   "cell_type": "code",
   "execution_count": null,
   "id": "845ee150",
   "metadata": {},
   "outputs": [],
   "source": [
    "x = df[['']]"
   ]
  },
  {
   "cell_type": "code",
   "execution_count": null,
   "id": "2617493e",
   "metadata": {},
   "outputs": [],
   "source": []
  },
  {
   "cell_type": "code",
   "execution_count": 8,
   "id": "01e5081f",
   "metadata": {},
   "outputs": [
    {
     "ename": "NameError",
     "evalue": "name 'x' is not defined",
     "output_type": "error",
     "traceback": [
      "\u001b[1;31m---------------------------------------------------------------------------\u001b[0m",
      "\u001b[1;31mNameError\u001b[0m                                 Traceback (most recent call last)",
      "Cell \u001b[1;32mIn[8], line 1\u001b[0m\n\u001b[1;32m----> 1\u001b[0m x_train,x_test,y_train,y_test\u001b[38;5;241m=\u001b[39mtrain_test_split(\u001b[43mx\u001b[49m,y,test_size\u001b[38;5;241m=\u001b[39m\u001b[38;5;241m0.2\u001b[39m,random_state\u001b[38;5;241m=\u001b[39m\u001b[38;5;241m42\u001b[39m)\n",
      "\u001b[1;31mNameError\u001b[0m: name 'x' is not defined"
     ]
    }
   ],
   "source": [
    " x_train,x_test,y_train,y_test=train_test_split(x,y,test_size=0.2,random_state=42)"
   ]
  },
  {
   "cell_type": "code",
   "execution_count": null,
   "id": "3589ef09",
   "metadata": {},
   "outputs": [],
   "source": [
    "param_grid={\n",
    "    'n_estimators':[100,200,300],\n",
    "    'max_depth':[None,10,20],\n",
    "    'min_samples_split':[2,5,10],\n",
    "    'min_samples_leaf':[1,2,4]\n",
    "}"
   ]
  },
  {
   "cell_type": "code",
   "execution_count": null,
   "id": "b0fe72a3",
   "metadata": {},
   "outputs": [],
   "source": [
    "grid_search=GridSearchCV(RandomForestClassifier(random_state=42),param_grid,cv=5,n_jobs=-1)\n",
    "grid_search.fit(x_train,y_train)\n",
    "best_params=grid_search.best_params\n",
    "best_rf_classifier=RandomForestClassifier(best_params,random_state=42)\n",
    "best_rf_classifier.fit(x_train,y_train)"
   ]
  },
  {
   "cell_type": "code",
   "execution_count": null,
   "id": "83aaf5e1",
   "metadata": {},
   "outputs": [],
   "source": [
    "feature_importance=best_rf_classifier.feature_importance_\n",
    "sns.barplot(x=feature_importance,y=x.columns)\n",
    "plt.title('Feature importance')\n",
    "plt.xlabel(\"Importance\")\n",
    "plt.ylabel(\"Feature\")\n",
    "plt.xticks(rotation=45)\n",
    "plt.tight_layout()\n",
    "plt.show()"
   ]
  },
  {
   "cell_type": "code",
   "execution_count": null,
   "id": "cbcab6d2",
   "metadata": {},
   "outputs": [],
   "source": [
    "y_pred=best_rf_classifier.predict(x_test)\n",
    "print(\"Confusion matrix\")\n",
    "from sklearn.metrics import confusion_matrix"
   ]
  },
  {
   "cell_type": "code",
   "execution_count": null,
   "id": "d06bc661",
   "metadata": {},
   "outputs": [],
   "source": [
    "classnames=['0','1']"
   ]
  }
 ],
 "metadata": {
  "kernelspec": {
   "display_name": "Python 3 (ipykernel)",
   "language": "python",
   "name": "python3"
  },
  "language_info": {
   "codemirror_mode": {
    "name": "ipython",
    "version": 3
   },
   "file_extension": ".py",
   "mimetype": "text/x-python",
   "name": "python",
   "nbconvert_exporter": "python",
   "pygments_lexer": "ipython3",
   "version": "3.10.9"
  }
 },
 "nbformat": 4,
 "nbformat_minor": 5
}
